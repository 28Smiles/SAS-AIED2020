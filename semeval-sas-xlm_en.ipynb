{
 "cells": [
  {
   "cell_type": "code",
   "execution_count": 2,
   "metadata": {},
   "outputs": [],
   "source": [
    "import os\n",
    "from itertools import chain\n",
    "import torch\n",
    "from tqdm import tqdm\n",
    "import tensorflow as tf\n",
    "import pandas as pd\n",
    "from pytorch_transformers import *\n",
    "from xml.dom import minidom\n",
    "import numpy as np\n",
    "from torch.utils.data import DataLoader, RandomSampler, TensorDataset\n",
    "from apex import amp\n",
    "from sklearn.metrics import confusion_matrix, f1_score, accuracy_score, precision_score, recall_score, matthews_corrcoef, r2_score, roc_auc_score"
   ]
  },
  {
   "cell_type": "code",
   "execution_count": 4,
   "metadata": {},
   "outputs": [],
   "source": [
    "class Tensorboard:\n",
    "    def __init__(self, logdir):\n",
    "        self.writer = tf.summary.create_file_writer(logdir)\n",
    "\n",
    "    def close(self):\n",
    "        self.writer.close()\n",
    "\n",
    "    def log_scalar(self, tag, value, global_step):\n",
    "        with self.writer.as_default():\n",
    "            tf.summary.scalar(tag, value, global_step)"
   ]
  },
  {
   "cell_type": "code",
   "execution_count": 5,
   "metadata": {},
   "outputs": [],
   "source": [
    "num_labels = 3\n",
    "train_batch_size = 4\n",
    "learn_rate = 1e-5\n",
    "warmup_steps = 1024\n",
    "accumulation_steps = 4\n",
    "epochs = 12\n",
    "pretrain = -1\n",
    "warp = 0\n",
    "execute = 12"
   ]
  },
  {
   "cell_type": "code",
   "execution_count": 6,
   "metadata": {},
   "outputs": [
    {
     "name": "stderr",
     "output_type": "stream",
     "text": [
      "100%|██████████| 2952532/2952532 [00:00<00:00, 4481522.05B/s]\n",
      "100%|██████████| 1434601/1434601 [00:00<00:00, 2871128.27B/s]\n",
      "100%|██████████| 775/775 [00:00<00:00, 355488.36B/s]\n",
      "100%|██████████| 692734777/692734777 [00:24<00:00, 28327828.53B/s]\n"
     ]
    }
   ],
   "source": [
    "EXPERIMENT = 'xlm-xlni-en-1e-5'\n",
    "MODEL_NAME = 'xlm-mlm-tlm-xnli15-1024'\n",
    "SEQUENCE_LENGTH = 512\n",
    "TOKENIZER = XLMTokenizer.from_pretrained(MODEL_NAME)\n",
    "CONFIG = XLMConfig.from_pretrained(MODEL_NAME, num_labels = num_labels)\n",
    "MODEL = XLMForSequenceClassification.from_pretrained(MODEL_NAME, config = CONFIG)\n",
    "#MODEL.load_state_dict(torch.load('../input/pretrainedmtlm/checkpoints/model.torch', map_location='cpu'))"
   ]
  },
  {
   "cell_type": "code",
   "execution_count": 7,
   "metadata": {},
   "outputs": [],
   "source": [
    "def load_semeval(t = 'train', lang = 'en'):\n",
    "    semeval_keys = {\n",
    "        'correct': 2,\n",
    "        'incorrect': 1,\n",
    "        'contradictory': 0\n",
    "    }\n",
    "    \n",
    "    file = minidom.parse('datasets/semeval2013/semeval2013-3way-' + lang + '/' + t + '.xml')\n",
    "    \n",
    "    for exercise in file.getElementsByTagName('exercise'):\n",
    "        for reference in exercise.getElementsByTagName('reference'):\n",
    "            for answer in exercise.getElementsByTagName('answer'):\n",
    "                yield (\n",
    "                    reference.firstChild.data, \n",
    "                    answer.firstChild.data, \n",
    "                    MODEL.config.lang2id[lang],\n",
    "                    semeval_keys[answer.attributes['accuracy'].value]\n",
    "                )\n",
    "\n",
    "def project_semeval(score):\n",
    "    return {\n",
    "        2: 1,\n",
    "        1: 0,\n",
    "        0: 0\n",
    "    }[score]"
   ]
  },
  {
   "cell_type": "code",
   "execution_count": 8,
   "metadata": {},
   "outputs": [],
   "source": [
    "def tokenize(loader):\n",
    "    for r, a, lng, l in loader:\n",
    "        idx = TOKENIZER.encode(r, a, True)\n",
    "        if len(idx) > SEQUENCE_LENGTH:\n",
    "            continue\n",
    "        \n",
    "        mask = [1] * len(idx) + [0] * (SEQUENCE_LENGTH - len(idx))\n",
    "        idx += [0] * (SEQUENCE_LENGTH - len(idx))\n",
    "        lang = [lng] * SEQUENCE_LENGTH\n",
    "        \n",
    "        yield idx, mask, lang, l"
   ]
  },
  {
   "cell_type": "code",
   "execution_count": 9,
   "metadata": {},
   "outputs": [],
   "source": [
    "def dataset(loader):\n",
    "    features = list(loader)\n",
    "\n",
    "    all_input_ids = torch.tensor([f[0] for f in features], dtype=torch.long)\n",
    "    all_input_mask = torch.tensor([f[1] for f in features], dtype=torch.uint8)\n",
    "    all_input_langs = torch.tensor([f[2] for f in features], dtype=torch.uint8)\n",
    "    \n",
    "    all_outputs = torch.tensor([f[3] for f in features], dtype=torch.uint8)\n",
    "\n",
    "    return TensorDataset(all_input_ids, all_input_mask, all_input_langs, all_outputs)"
   ]
  },
  {
   "cell_type": "code",
   "execution_count": 10,
   "metadata": {},
   "outputs": [],
   "source": [
    "def save_model(model_cpu, step):\n",
    "    output_dir = 'logs/%s' % EXPERIMENT\n",
    "    if not os.path.exists(output_dir):\n",
    "        os.makedirs(output_dir)\n",
    "\n",
    "    torch.save(model_cpu.state_dict(), os.path.join(output_dir, 'model_%d.torch' % step))"
   ]
  },
  {
   "cell_type": "code",
   "execution_count": 11,
   "metadata": {},
   "outputs": [
    {
     "name": "stdout",
     "output_type": "stream",
     "text": [
      "train 22167\n",
      "unseen_answers 2402\n",
      "unseen_questions 4632\n",
      "unseen_domains 4562\n"
     ]
    }
   ],
   "source": [
    "for t in [ 'train', 'unseen_answers', 'unseen_questions', 'unseen_domains' ]:\n",
    "    c = 0\n",
    "    for p in load_semeval(t, 'en'):\n",
    "        c += 1\n",
    "    print(t, c)"
   ]
  },
  {
   "cell_type": "code",
   "execution_count": 12,
   "metadata": {},
   "outputs": [],
   "source": [
    "train_dataset = dataset(tokenize(load_semeval('train', 'en')))\n",
    "train_sampler = RandomSampler(train_dataset)\n",
    "train_dataset = DataLoader(train_dataset, sampler=train_sampler, batch_size=train_batch_size, drop_last=True)\n",
    "\n",
    "val_datasets = {\n",
    "    'unseen_answers_en': DataLoader(dataset(tokenize(load_semeval('unseen_answers', 'en'))), batch_size=32, drop_last=True),\n",
    "    'unseen_questions_en': DataLoader(dataset(tokenize(load_semeval('unseen_questions', 'en'))), batch_size=32, drop_last=True),\n",
    "    'unseen_domains_en': DataLoader(dataset(tokenize(load_semeval('unseen_domains', 'en'))), batch_size=32, drop_last=True),\n",
    "    'unseen_answers_de': DataLoader(dataset(tokenize(load_semeval('unseen_answers', 'de'))), batch_size=32, drop_last=True),\n",
    "    'unseen_questions_de': DataLoader(dataset(tokenize(load_semeval('unseen_questions', 'de'))), batch_size=32, drop_last=True),\n",
    "    'unseen_domains_de': DataLoader(dataset(tokenize(load_semeval('unseen_domains', 'de'))), batch_size=32, drop_last=True)\n",
    "}"
   ]
  },
  {
   "cell_type": "code",
   "execution_count": 13,
   "metadata": {},
   "outputs": [
    {
     "name": "stdout",
     "output_type": "stream",
     "text": [
      "Selected optimization level O1:  Insert automatic casts around Pytorch functions and Tensor methods.\n",
      "\n",
      "Defaults for this optimization level are:\n",
      "enabled                : True\n",
      "opt_level              : O1\n",
      "cast_model_type        : None\n",
      "patch_torch_functions  : True\n",
      "keep_batchnorm_fp32    : None\n",
      "master_weights         : None\n",
      "loss_scale             : dynamic\n",
      "Processing user overrides (additional kwargs that are not None)...\n",
      "After processing overrides, optimization options are:\n",
      "enabled                : True\n",
      "opt_level              : O1\n",
      "cast_model_type        : None\n",
      "patch_torch_functions  : True\n",
      "keep_batchnorm_fp32    : None\n",
      "master_weights         : None\n",
      "loss_scale             : dynamic\n"
     ]
    }
   ],
   "source": [
    "tensorboard = Tensorboard('logs/%s' % EXPERIMENT)\n",
    "model = MODEL.to('cuda')\n",
    "\n",
    "model.zero_grad()\n",
    "no_decay = ['bias', 'LayerNorm.weight']\n",
    "optimizer_grouped_parameters = [\n",
    "    {'params': [p for n, p in model.named_parameters() if not any(nd in n for nd in no_decay)], 'weight_decay': 0.1},\n",
    "    {'params': [p for n, p in model.named_parameters() if any(nd in n for nd in no_decay)], 'weight_decay': 0.0}\n",
    "]\n",
    "optimizer = AdamW(optimizer_grouped_parameters, lr=learn_rate, eps=1e-8)\n",
    "model, optimizer = amp.initialize(model, optimizer, opt_level=\"O1\")\n",
    "scheduler = WarmupLinearSchedule(optimizer, \n",
    "                                 warmup_steps=warmup_steps, \n",
    "                                 t_total=len(train_dataset) // accumulation_steps * epochs)\n",
    "\n",
    "for e in range(warp * (len(train_dataset) // accumulation_steps)):\n",
    "    scheduler.step()\n",
    "\n",
    "if pretrain > 0:\n",
    "    for param in MODEL.transformer.parameters():\n",
    "        param.requires_grad = False"
   ]
  },
  {
   "cell_type": "code",
   "execution_count": 14,
   "metadata": {},
   "outputs": [
    {
     "name": "stdout",
     "output_type": "stream",
     "text": [
      "Gradient overflow.  Skipping step, loss scaler 0 reducing loss scale to 4096.0\n"
     ]
    },
    {
     "name": "stderr",
     "output_type": "stream",
     "text": [
      "/opt/conda/lib/python3.6/site-packages/torch/optim/lr_scheduler.py:82: UserWarning: Detected call of `lr_scheduler.step()` before `optimizer.step()`. In PyTorch 1.1.0 and later, you should call them in the opposite order: `optimizer.step()` before `lr_scheduler.step()`.  Failure to do this will result in PyTorch skipping the first value of the learning rate schedule.See more details at https://pytorch.org/docs/stable/optim.html#how-to-adjust-learning-rate\n",
      "  \"https://pytorch.org/docs/stable/optim.html#how-to-adjust-learning-rate\", UserWarning)\n"
     ]
    },
    {
     "name": "stdout",
     "output_type": "stream",
     "text": [
      "Gradient overflow.  Skipping step, loss scaler 0 reducing loss scale to 1024.0\n",
      "Gradient overflow.  Skipping step, loss scaler 0 reducing loss scale to 512.0\n",
      "Gradient overflow.  Skipping step, loss scaler 0 reducing loss scale to 256.0\n",
      "Gradient overflow.  Skipping step, loss scaler 0 reducing loss scale to 512.0\n",
      "Step 5540/5541\n"
     ]
    },
    {
     "name": "stderr",
     "output_type": "stream",
     "text": [
      "/opt/conda/lib/python3.6/site-packages/sklearn/metrics/classification.py:1437: UndefinedMetricWarning: Precision is ill-defined and being set to 0.0 in labels with no predicted samples.\n",
      "  'precision', 'predicted', average, warn_for)\n",
      "/opt/conda/lib/python3.6/site-packages/sklearn/metrics/classification.py:1437: UndefinedMetricWarning: F-score is ill-defined and being set to 0.0 in labels with no predicted samples.\n",
      "  'precision', 'predicted', average, warn_for)\n"
     ]
    },
    {
     "name": "stdout",
     "output_type": "stream",
     "text": [
      "Gradient overflow.  Skipping step, loss scaler 0 reducing loss scale to 512.0\n",
      "Gradient overflow.  Skipping step, loss scaler 0 reducing loss scale to 512.0\n",
      "Gradient overflow.  Skipping step, loss scaler 0 reducing loss scale to 512.0\n",
      "Step 5540/5541\n",
      "Gradient overflow.  Skipping step, loss scaler 0 reducing loss scale to 512.0\n",
      "Gradient overflow.  Skipping step, loss scaler 0 reducing loss scale to 256.0\n",
      "Gradient overflow.  Skipping step, loss scaler 0 reducing loss scale to 128.0\n",
      "Step 5540/5541\n",
      "Gradient overflow.  Skipping step, loss scaler 0 reducing loss scale to 512.0\n",
      "Step 5540/5541\n",
      "Gradient overflow.  Skipping step, loss scaler 0 reducing loss scale to 512.0\n",
      "Gradient overflow.  Skipping step, loss scaler 0 reducing loss scale to 256.0\n",
      "Step 5540/5541\n",
      "Gradient overflow.  Skipping step, loss scaler 0 reducing loss scale to 512.0\n",
      "Gradient overflow.  Skipping step, loss scaler 0 reducing loss scale to 256.0\n",
      "Step 5540/5541\n",
      "Gradient overflow.  Skipping step, loss scaler 0 reducing loss scale to 1024.0\n",
      "Gradient overflow.  Skipping step, loss scaler 0 reducing loss scale to 512.0\n",
      "Gradient overflow.  Skipping step, loss scaler 0 reducing loss scale to 512.0\n",
      "Step 5540/5541\n",
      "Gradient overflow.  Skipping step, loss scaler 0 reducing loss scale to 512.0\n",
      "Gradient overflow.  Skipping step, loss scaler 0 reducing loss scale to 512.0\n",
      "Step 5540/5541\n",
      "Gradient overflow.  Skipping step, loss scaler 0 reducing loss scale to 1024.0\n",
      "Gradient overflow.  Skipping step, loss scaler 0 reducing loss scale to 1024.0\n",
      "Step 5540/5541\n",
      "Gradient overflow.  Skipping step, loss scaler 0 reducing loss scale to 512.0\n",
      "Gradient overflow.  Skipping step, loss scaler 0 reducing loss scale to 256.0\n",
      "Step 5540/5541\n",
      "Gradient overflow.  Skipping step, loss scaler 0 reducing loss scale to 1024.0\n",
      "Gradient overflow.  Skipping step, loss scaler 0 reducing loss scale to 512.0\n",
      "Step 5540/5541\n",
      "Gradient overflow.  Skipping step, loss scaler 0 reducing loss scale to 1024.0\n",
      "Step 5540/5541\n"
     ]
    }
   ],
   "source": [
    "for epoch in range(execute):\n",
    "    if pretrain == epoch:\n",
    "        for param in MODEL.transformer.parameters():\n",
    "            param.requires_grad = True\n",
    "    \n",
    "    model.train()\n",
    "    for step, batch in enumerate(train_dataset):\n",
    "        outputs = model(\n",
    "            batch[0].long().to('cuda'), \n",
    "            attention_mask = batch[1].long().to('cuda'), \n",
    "            langs = batch[2].long().to('cuda'),\n",
    "            labels = batch[3].long().to('cuda')\n",
    "        )\n",
    "        \n",
    "        loss = outputs[0].mean()\n",
    "        with amp.scale_loss(loss, optimizer) as scaled_loss:\n",
    "            scaled_loss.backward()\n",
    "            \n",
    "        if (step + 1) % accumulation_steps == 0:\n",
    "            optimizer.step()\n",
    "            scheduler.step()\n",
    "            model.zero_grad()\n",
    "        \n",
    "        tensorboard.log_scalar('loss', loss.item(), step * train_batch_size + len(train_dataset) * (epoch + warp) * train_batch_size)\n",
    "        \n",
    "        if (step + 1) % (len(train_dataset) / 4) == 0:\n",
    "            print('Step {}/{}'.format(step, len(train_dataset)))\n",
    "            \n",
    "            save_model(MODEL, step * train_batch_size + len(train_dataset) * (epoch + warp) * train_batch_size)\n",
    "            model.eval()\n",
    "            scores = []\n",
    "            for key, val_dataset in val_datasets.items():\n",
    "                y_true = []\n",
    "                y_pred = []\n",
    "                y_orig = []\n",
    "\n",
    "                for batch in val_dataset:\n",
    "                    with torch.no_grad():\n",
    "                        outputs = model(\n",
    "                            batch[0].long().to('cuda'), \n",
    "                            attention_mask = batch[1].long().to('cuda'),\n",
    "                            langs = batch[2].long().to('cuda'),\n",
    "                        )\n",
    "\n",
    "                    y_true.extend(batch[3].view(-1).numpy())\n",
    "                    y_pred.extend(outputs[0].to('cpu').float().argmax(1).numpy())\n",
    "                    y_orig.extend(outputs[0].to('cpu').float().numpy())\n",
    "                y_true = np.array(y_true)\n",
    "                y_pred = np.array(y_pred)\n",
    "                y_orig = np.array(y_orig)\n",
    "                pd.DataFrame(y_orig, columns = [ 'contradictory', 'incorrect', 'correct' ]).to_csv('logs/{}/{}_epoch_{}_step_{}.csv'.format(EXPERIMENT, key, epoch, step))\n",
    "\n",
    "                scores.append((\n",
    "                    key + '_precision_3_way', \n",
    "                    precision_score(y_true, y_pred.round(), labels=list(range(num_labels)), average='weighted')\n",
    "                ))\n",
    "                scores.append((\n",
    "                    key + '_recall_3_way', \n",
    "                    recall_score(y_true, y_pred.round(), labels=list(range(num_labels)), average='weighted')\n",
    "                ))\n",
    "                scores.append((\n",
    "                    key + '_f1_macro_3_way', \n",
    "                    f1_score(y_true, y_pred.round(), average='macro')\n",
    "                ))\n",
    "                scores.append((\n",
    "                    key + '_f1_micro_3_way', \n",
    "                    f1_score(y_true, y_pred.round(), average='micro')\n",
    "                ))\n",
    "                scores.append((\n",
    "                    key + '_matthews_3_way', \n",
    "                    matthews_corrcoef(y_true, y_pred.round())\n",
    "                ))\n",
    "                scores.append((\n",
    "                    key + '_accuracy_3_way', \n",
    "                    accuracy_score(y_true, y_pred.round(), normalize=True)\n",
    "                ))\n",
    "                \n",
    "                y_pred = [ project_semeval(v) for v in y_pred.round() ]\n",
    "                y_true = [ project_semeval(v) for v in y_true ]\n",
    "                \n",
    "                scores.append((\n",
    "                    key + '_precision_2_way_projected', \n",
    "                    precision_score(y_true, y_pred, labels=list(range(2)), average='weighted')\n",
    "                ))\n",
    "                scores.append((\n",
    "                    key + '_recall_2_way_projected', \n",
    "                    recall_score(y_true, y_pred, labels=list(range(2)), average='weighted')\n",
    "                ))\n",
    "                scores.append((\n",
    "                    key + '_f1_macro_2_way_projected', \n",
    "                    f1_score(y_true, y_pred, average='macro')\n",
    "                ))\n",
    "                scores.append((\n",
    "                    key + '_f1_micro_2_way_projected', \n",
    "                    f1_score(y_true, y_pred, average='micro')\n",
    "                ))\n",
    "                scores.append((\n",
    "                    key + '_matthews_2_way_projected', \n",
    "                    matthews_corrcoef(y_true, y_pred)\n",
    "                ))\n",
    "                scores.append((\n",
    "                    key + '_accuracy_2_way_projected', \n",
    "                    accuracy_score(y_true, y_pred, normalize=True)\n",
    "                ))\n",
    "                \n",
    "            for k, s in scores:\n",
    "                tensorboard.log_scalar(k, s, step * train_batch_size + len(train_dataset) * (epoch + warp) * train_batch_size)\n",
    "            model.train()"
   ]
  },
  {
   "cell_type": "code",
   "execution_count": null,
   "metadata": {},
   "outputs": [],
   "source": []
  }
 ],
 "metadata": {
  "kernelspec": {
   "display_name": "Python 3",
   "language": "python",
   "name": "python3"
  },
  "language_info": {
   "codemirror_mode": {
    "name": "ipython",
    "version": 3
   },
   "file_extension": ".py",
   "mimetype": "text/x-python",
   "name": "python",
   "nbconvert_exporter": "python",
   "pygments_lexer": "ipython3",
   "version": "3.6.8"
  }
 },
 "nbformat": 4,
 "nbformat_minor": 1
}
